{
  "cells": [
    {
      "cell_type": "code",
      "execution_count": null,
      "id": "0a7ef2ec",
      "metadata": {
        "ExecuteTime": {
          "end_time": "2023-12-18T17:41:36.925275900Z",
          "start_time": "2023-12-18T17:41:36.921758100Z"
        },
        "id": "0a7ef2ec"
      },
      "outputs": [],
      "source": [
        "import cv2\n",
        "import mediapipe as mp\n",
        "import tkinter as tk\n",
        "from PIL import Image, ImageTk\n",
        "from tkinter import Tk, Canvas, Entry, Text, Button, PhotoImage, messagebox"
      ]
    },
    {
      "cell_type": "code",
      "execution_count": null,
      "id": "8730dbea",
      "metadata": {
        "ExecuteTime": {
          "end_time": "2023-12-18T17:46:11.516640Z",
          "start_time": "2023-12-18T17:44:50.377855400Z"
        },
        "id": "8730dbea"
      },
      "outputs": [],
      "source": [
        "window= Tk()\n",
        "window.geometry(\"850x650+360+60\")\n",
        "window.title(\"Body Detection Model\")\n",
        "window.configure(bg = \"#73709A\")\n",
        "window.resizable(False, False)\n",
        "\n",
        "class camera:\n",
        "\n",
        "    def stop(self):\n",
        "        if self.video_capture.isOpened():\n",
        "            messagebox.showinfo('Closure', 'Thanks!\\nGoodbye')\n",
        "            self.video_capture.release()\n",
        "            window.destroy()\n",
        "\n",
        "    def __init__(self, window):\n",
        "        self.window = window\n",
        "        self.mp_drawing = mp.solutions.drawing_utils\n",
        "        self.mp_holistic = mp.solutions.holistic\n",
        "        self.video_capture = cv2.VideoCapture(0)\n",
        "\n",
        "        self.current_image = None\n",
        "        self.cam_frame = tk.Canvas(window, bg='black', width=698,height=480,highlightthickness=0)\n",
        "        self.cam_frame.place(x=75, y=82)\n",
        "\n",
        "        self.stop_image = PhotoImage(file=\"Stop_button.png\")\n",
        "        self.stop_button = Button(\n",
        "            image=self.stop_image,\n",
        "            borderwidth=0,\n",
        "            command=self.stop,\n",
        "            relief=\"flat\",\n",
        "            cursor='hand2'\n",
        "        )\n",
        "        self.stop_button.place( x=310.0,\n",
        "                                y=585.0,\n",
        "                                width=208.0,\n",
        "                                height=44.0)\n",
        "\n",
        "        self.text = tk.Label(window,\n",
        "                                 text=\" Your Body Detection \",\n",
        "                                 font=(\"times\", 33, \"italic bold\"),\n",
        "                                 fg=\"#38355D\",\n",
        "                                 bg='#73709A')\n",
        "        self.text.place(x=60, y=20)\n",
        "        self.update_camera()\n",
        "        self.window.mainloop()\n",
        "\n",
        "    def update_camera(self):\n",
        "        with self.mp_holistic.Holistic(min_detection_confidence=0.5, min_tracking_confidence=0.5) as holistic:\n",
        "            ret, frame = self.video_capture.read()\n",
        "            if ret:\n",
        "                self.image = cv2.cvtColor(frame, cv2.COLOR_BGR2RGB)\n",
        "                self.results = holistic.process(self.image)\n",
        "                self.image = cv2.cvtColor(self.image, cv2.COLOR_RGB2BGR)\n",
        "\n",
        "                image = cv2.cvtColor(self.image, cv2.COLOR_RGB2BGR)\n",
        "                # face detection\n",
        "                self.mp_drawing.draw_landmarks(self.image, self.results.face_landmarks, self.mp_holistic.FACEMESH_CONTOURS,\n",
        "                                          self.mp_drawing.DrawingSpec(color=(80, 110, 10), thickness=1, circle_radius=1),\n",
        "                                          self.mp_drawing.DrawingSpec(color=(80, 256, 121), thickness=1, circle_radius=1))\n",
        "\n",
        "                # left hand detection\n",
        "                self.mp_drawing.draw_landmarks(self.image, self.results.left_hand_landmarks,self.mp_holistic.HAND_CONNECTIONS,\n",
        "                                          self.mp_drawing.DrawingSpec(color=(121, 22, 76), thickness=2, circle_radius=4),\n",
        "                                          self.mp_drawing.DrawingSpec(color=(121, 44, 76), thickness=2, circle_radius=2))\n",
        "\n",
        "                # right hand detection\n",
        "                self.mp_drawing.draw_landmarks(self.image, self.results.right_hand_landmarks, self.mp_holistic.HAND_CONNECTIONS,\n",
        "                                          self.mp_drawing.DrawingSpec(color=(121, 22, 76), thickness=2, circle_radius=4),\n",
        "                                          self.mp_drawing.DrawingSpec(color=(121, 44, 76), thickness=2, circle_radius=2))\n",
        "\n",
        "                # pose detection\n",
        "                self.mp_drawing.draw_landmarks(self.image, self.results.pose_landmarks, self.mp_holistic.POSE_CONNECTIONS,\n",
        "                                          self.mp_drawing.DrawingSpec(color=(245, 117, 66), thickness=2, circle_radius=4),\n",
        "                                          self.mp_drawing.DrawingSpec(color=(245, 66, 230), thickness=2, circle_radius=2))\n",
        "\n",
        "                rgb_frame = cv2.cvtColor(self.image, cv2.COLOR_BGR2RGB)\n",
        "                rgb_frame = cv2.resize(rgb_frame, (0, 0), None, 1.1, 1.1)\n",
        "\n",
        "                self.photo = ImageTk.PhotoImage(image=Image.fromarray(rgb_frame))\n",
        "                self.cam_frame.create_image(0, 0, image=self.photo, anchor=tk.NW)\n",
        "                self.current_image = ImageTk.PhotoImage(image=Image.fromarray(cv2.cvtColor(self.image, cv2.COLOR_BGR2RGB)))\n",
        "                self.window.after(35, self.update_camera)\n",
        "\n",
        "camera_frame = camera(window)\n",
        "window.mainloop()"
      ]
    },
    {
      "cell_type": "code",
      "execution_count": null,
      "outputs": [],
      "source": [],
      "metadata": {
        "id": "2aaf5b4ef6f2f2f6"
      },
      "id": "2aaf5b4ef6f2f2f6"
    }
  ],
  "metadata": {
    "kernelspec": {
      "display_name": "Python 3 (ipykernel)",
      "language": "python",
      "name": "python3"
    },
    "language_info": {
      "codemirror_mode": {
        "name": "ipython",
        "version": 3
      },
      "file_extension": ".py",
      "mimetype": "text/x-python",
      "name": "python",
      "nbconvert_exporter": "python",
      "pygments_lexer": "ipython3",
      "version": "3.11.5"
    },
    "colab": {
      "provenance": []
    }
  },
  "nbformat": 4,
  "nbformat_minor": 5
}